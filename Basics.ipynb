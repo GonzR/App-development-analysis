{
 "cells": [
  {
   "cell_type": "markdown",
   "metadata": {},
   "source": [
    "# Mobile apps adds, analysis."
   ]
  },
  {
   "cell_type": "markdown",
   "metadata": {},
   "source": [
    "#### Here we are going to check the relationship between ads and our apps, our aim is to help our developers understand what type of apps are likely to attract more users on Google Play and the App Store"
   ]
  },
  {
   "cell_type": "code",
   "execution_count": 4,
   "metadata": {},
   "outputs": [],
   "source": [
    "def explore_data(dataset, start, end, rows_and_columns=False):\n",
    "    dataset_slice = dataset[start:end]    \n",
    "    for row in dataset_slice:\n",
    "        print(row)\n",
    "        print('\\n') # adds a new (empty) line after each row\n",
    "\n",
    "    if rows_and_columns:\n",
    "        print('Number of rows:', len(dataset))\n",
    "        print('Number of columns:', len(dataset[0]))"
   ]
  },
  {
   "cell_type": "code",
   "execution_count": 5,
   "metadata": {},
   "outputs": [],
   "source": [
    "from csv import reader\n",
    "\n",
    "### The Google Play data set ###\n",
    "opened_file = open('googleplaystore.csv')\n",
    "read_file = reader(opened_file)\n",
    "android = list(read_file)\n",
    "android_header = android[0]\n",
    "android = android[1:]\n",
    "\n",
    "### The App Store data set ###\n",
    "opened_file = open('AppleStore.csv')\n",
    "read_file = reader(opened_file)\n",
    "ios = list(read_file)\n",
    "ios_header = ios[0]\n",
    "ios = ios[1:]"
   ]
  },
  {
   "cell_type": "code",
   "execution_count": 6,
   "metadata": {
    "scrolled": true
   },
   "outputs": [
    {
     "name": "stdout",
     "output_type": "stream",
     "text": [
      "['App', 'Category', 'Rating', 'Reviews', 'Size', 'Installs', 'Type', 'Price', 'Content Rating', 'Genres', 'Last Updated', 'Current Ver', 'Android Ver']\n",
      "\n",
      "\n",
      "['Photo Editor & Candy Camera & Grid & ScrapBook', 'ART_AND_DESIGN', '4.1', '159', '19M', '10,000+', 'Free', '0', 'Everyone', 'Art & Design', 'January 7, 2018', '1.0.0', '4.0.3 and up']\n",
      "\n",
      "\n",
      "['Coloring book moana', 'ART_AND_DESIGN', '3.9', '967', '14M', '500,000+', 'Free', '0', 'Everyone', 'Art & Design;Pretend Play', 'January 15, 2018', '2.0.0', '4.0.3 and up']\n",
      "\n",
      "\n",
      "['U Launcher Lite – FREE Live Cool Themes, Hide Apps', 'ART_AND_DESIGN', '4.7', '87510', '8.7M', '5,000,000+', 'Free', '0', 'Everyone', 'Art & Design', 'August 1, 2018', '1.2.4', '4.0.3 and up']\n",
      "\n",
      "\n",
      "Number of rows: 10841\n",
      "Number of columns: 13\n"
     ]
    }
   ],
   "source": [
    "print(android_header)\n",
    "print('\\n')\n",
    "explore_data(android, 0, 3, True)"
   ]
  },
  {
   "cell_type": "code",
   "execution_count": 8,
   "metadata": {},
   "outputs": [
    {
     "name": "stdout",
     "output_type": "stream",
     "text": [
      "['id', 'track_name', 'size_bytes', 'currency', 'price', 'rating_count_tot', 'rating_count_ver', 'user_rating', 'user_rating_ver', 'ver', 'cont_rating', 'prime_genre', 'sup_devices.num', 'ipadSc_urls.num', 'lang.num', 'vpp_lic']\n",
      "\n",
      "\n",
      "['284882215', 'Facebook', '389879808', 'USD', '0.0', '2974676', '212', '3.5', '3.5', '95.0', '4+', 'Social Networking', '37', '1', '29', '1']\n",
      "\n",
      "\n",
      "['389801252', 'Instagram', '113954816', 'USD', '0.0', '2161558', '1289', '4.5', '4.0', '10.23', '12+', 'Photo & Video', '37', '0', '29', '1']\n",
      "\n",
      "\n",
      "['529479190', 'Clash of Clans', '116476928', 'USD', '0.0', '2130805', '579', '4.5', '4.5', '9.24.12', '9+', 'Games', '38', '5', '18', '1']\n",
      "\n",
      "\n",
      "Number of rows: 7197\n",
      "Number of columns: 16\n"
     ]
    }
   ],
   "source": [
    "print(ios_header)\n",
    "print('\\n')\n",
    "explore_data(ios, 0, 3, True)"
   ]
  },
  {
   "cell_type": "markdown",
   "metadata": {},
   "source": [
    "##### Here you can find the description of the dataset: https://www.kaggle.com/datasets/ramamet4/app-store-apple-data-set-10k-apps"
   ]
  },
  {
   "cell_type": "markdown",
   "metadata": {},
   "source": [
    "### According to the discussion board there is an incomplete data entry, so we have to delete this row using the code below"
   ]
  },
  {
   "cell_type": "code",
   "execution_count": 12,
   "metadata": {},
   "outputs": [],
   "source": [
    "del android[10472]"
   ]
  },
  {
   "cell_type": "markdown",
   "metadata": {},
   "source": [
    "#### Now we have to look for duplicates in the dataset, we can do this by looking at the app names and see if there is one that is equal to another"
   ]
  },
  {
   "cell_type": "code",
   "execution_count": 13,
   "metadata": {},
   "outputs": [
    {
     "name": "stdout",
     "output_type": "stream",
     "text": [
      "['Instagram', 'SOCIAL', '4.5', '66577313', 'Varies with device', '1,000,000,000+', 'Free', '0', 'Teen', 'Social', 'July 31, 2018', 'Varies with device', 'Varies with device']\n",
      "['Instagram', 'SOCIAL', '4.5', '66577446', 'Varies with device', '1,000,000,000+', 'Free', '0', 'Teen', 'Social', 'July 31, 2018', 'Varies with device', 'Varies with device']\n",
      "['Instagram', 'SOCIAL', '4.5', '66577313', 'Varies with device', '1,000,000,000+', 'Free', '0', 'Teen', 'Social', 'July 31, 2018', 'Varies with device', 'Varies with device']\n",
      "['Instagram', 'SOCIAL', '4.5', '66509917', 'Varies with device', '1,000,000,000+', 'Free', '0', 'Teen', 'Social', 'July 31, 2018', 'Varies with device', 'Varies with device']\n"
     ]
    }
   ],
   "source": [
    "for app in android:\n",
    "    name= app[0]\n",
    "    if name == \"Instagram\":\n",
    "        print(app)"
   ]
  },
  {
   "cell_type": "markdown",
   "metadata": {},
   "source": [
    "#### Here we can clearly see that Instagram is being repeated a few times, so we should do this for every app, like this."
   ]
  },
  {
   "cell_type": "code",
   "execution_count": 15,
   "metadata": {},
   "outputs": [
    {
     "name": "stdout",
     "output_type": "stream",
     "text": [
      "Number of duplicate apps:  1181\n",
      "\n",
      "\n",
      "Examples of duplicate apps:  ['Quick PDF Scanner + OCR FREE', 'Box', 'Google My Business', 'ZOOM Cloud Meetings', 'join.me - Simple Meetings', 'Box', 'Zenefits', 'Google Ads', 'Google My Business', 'Slack', 'FreshBooks Classic', 'Insightly CRM', 'QuickBooks Accounting: Invoicing & Expenses', 'HipChat - Chat Built for Teams', 'Xero Accounting Software']\n"
     ]
    }
   ],
   "source": [
    "duplicate_apps=[]\n",
    "unique_apps=[]\n",
    "\n",
    "for app in android:\n",
    "    name=app[0]\n",
    "    if name in unique_apps:\n",
    "        duplicate_apps.append(name)\n",
    "    else:\n",
    "        unique_apps.append(name)\n",
    "print(\"Number of duplicate apps: \",len(duplicate_apps))\n",
    "print(\"\\n\")\n",
    "print(\"Examples of duplicate apps: \",duplicate_apps[:15])"
   ]
  },
  {
   "cell_type": "markdown",
   "metadata": {},
   "source": [
    "#### As we can see in the Instagram example, the difference is in the fourth position, the number of reviews, so we will only keep the entry with the highest number of reviews and drop the rest. "
   ]
  },
  {
   "cell_type": "code",
   "execution_count": 17,
   "metadata": {},
   "outputs": [
    {
     "name": "stdout",
     "output_type": "stream",
     "text": [
      "Expected length: 9659\n"
     ]
    }
   ],
   "source": [
    "print(\"Expected length:\",len(android)-1181) "
   ]
  },
  {
   "cell_type": "markdown",
   "metadata": {},
   "source": [
    "#### Here we create a dictionary that keeps the entries in which we can find the highest number of reviews."
   ]
  },
  {
   "cell_type": "code",
   "execution_count": 18,
   "metadata": {},
   "outputs": [],
   "source": [
    "reviews_max={}\n",
    "for app in android:\n",
    "    name= app[0]\n",
    "    n_reviews= float(app[3])\n",
    "    if name in reviews_max and reviews_max[name]<n_reviews:\n",
    "        reviews_max[name] = n_reviews\n",
    "    elif name not in reviews_max:\n",
    "        reviews_max[name] = n_reviews\n",
    "        "
   ]
  },
  {
   "cell_type": "code",
   "execution_count": 30,
   "metadata": {},
   "outputs": [
    {
     "data": {
      "text/plain": [
       "9659"
      ]
     },
     "execution_count": 30,
     "metadata": {},
     "output_type": "execute_result"
    }
   ],
   "source": [
    "len(reviews_max)"
   ]
  },
  {
   "cell_type": "markdown",
   "metadata": {},
   "source": [
    "#### Here we create a new dataset using the new dictionary we just created above, so here we create the dataset with no duplicates and keeping the entry with highest value."
   ]
  },
  {
   "cell_type": "code",
   "execution_count": 25,
   "metadata": {},
   "outputs": [],
   "source": [
    "android_clean=[]\n",
    "already_added=[]\n",
    "for app in android:\n",
    "    name= app[0]\n",
    "    n_reviews= float(app[3])\n",
    "    if (reviews_max[name] == n_reviews) and (name not in already_added):\n",
    "        android_clean.append(app)\n",
    "        already_added.append(name)"
   ]
  },
  {
   "cell_type": "code",
   "execution_count": 29,
   "metadata": {},
   "outputs": [
    {
     "data": {
      "text/plain": [
       "9659"
      ]
     },
     "execution_count": 29,
     "metadata": {},
     "output_type": "execute_result"
    }
   ],
   "source": [
    "len(android_clean)"
   ]
  },
  {
   "cell_type": "markdown",
   "metadata": {},
   "source": [
    "#### Now that we have cleaned up the android dataset, lets check for duplicates in the ios dataset."
   ]
  },
  {
   "cell_type": "code",
   "execution_count": 34,
   "metadata": {},
   "outputs": [
    {
     "name": "stdout",
     "output_type": "stream",
     "text": [
      "Number of duplicate apps:  0\n",
      "\n",
      "\n",
      "Number of unique apps:  7197\n",
      "\n",
      "\n",
      "Examples of duplicate apps:  []\n"
     ]
    }
   ],
   "source": [
    "duplicate_apps=[]\n",
    "unique_apps=[]\n",
    "\n",
    "for app in ios:\n",
    "    ID=app[0]\n",
    "    if ID in unique_apps:\n",
    "        duplicate_apps.append(name)\n",
    "    else:\n",
    "        unique_apps.append(name)\n",
    "print(\"Number of duplicate apps: \",len(duplicate_apps))\n",
    "print(\"\\n\")\n",
    "print(\"Number of unique apps: \",len(unique_apps))\n",
    "print(\"\\n\")\n",
    "print(\"Examples of duplicate apps: \",duplicate_apps[:15])"
   ]
  },
  {
   "cell_type": "markdown",
   "metadata": {},
   "source": [
    "#### As we can see there are no duplicates here, in contrast with the android dataset, we had use the ID column to check for duplicates. "
   ]
  },
  {
   "cell_type": "markdown",
   "metadata": {},
   "source": [
    "#### Now we only want to keep the apps that are in english, so for that we define a function that tells us if the string is in english or not."
   ]
  },
  {
   "cell_type": "code",
   "execution_count": 54,
   "metadata": {},
   "outputs": [],
   "source": [
    "def english(x):\n",
    "    \n",
    "    for y in x:\n",
    "        if ord(y)>127:\n",
    "            return False\n",
    "    return  True\n",
    "    "
   ]
  },
  {
   "cell_type": "code",
   "execution_count": 56,
   "metadata": {},
   "outputs": [
    {
     "name": "stdout",
     "output_type": "stream",
     "text": [
      "True\n",
      "False\n",
      "False\n",
      "False\n"
     ]
    }
   ],
   "source": [
    "print(english(\"Juan\"))\n",
    "print(english(\"爱奇艺PPS -《欢乐颂2》电视剧热播\"))\n",
    "print(english(\"Docs To Go™ Free Office Suite\"))\n",
    "print(english(\"Instachat 😜\"))"
   ]
  },
  {
   "cell_type": "markdown",
   "metadata": {},
   "source": [
    "#### As we can see our function detects strings with emojis or characters that are in english as non-english words, so we need to fix this problem or we are going to delete usefull data, so we know that if the ord of the letter falls outside 127 is not an english letter, so we are going to set a parameter that if it has more than 3 characters that falls outside the range it will not count as an english word."
   ]
  },
  {
   "cell_type": "code",
   "execution_count": 58,
   "metadata": {},
   "outputs": [],
   "source": [
    "def english(x):\n",
    "    non_ascii=0\n",
    "    \n",
    "    for y in x:\n",
    "        if ord(y)>127:\n",
    "            non_ascii+=1\n",
    "            \n",
    "        if non_ascii > 3:\n",
    "            return False\n",
    "        \n",
    "    return  True"
   ]
  },
  {
   "cell_type": "code",
   "execution_count": 59,
   "metadata": {},
   "outputs": [
    {
     "name": "stdout",
     "output_type": "stream",
     "text": [
      "True\n",
      "True\n"
     ]
    }
   ],
   "source": [
    "print(english(\"Docs To Go™ Free Office Suite\"))\n",
    "print(english(\"Instachat 😜\"))"
   ]
  },
  {
   "cell_type": "code",
   "execution_count": 61,
   "metadata": {},
   "outputs": [],
   "source": [
    "android_english=[]\n",
    "for app in android_clean:\n",
    "    if english(app[0])==True:\n",
    "        android_english.append(app)"
   ]
  },
  {
   "cell_type": "code",
   "execution_count": 62,
   "metadata": {},
   "outputs": [
    {
     "data": {
      "text/plain": [
       "9614"
      ]
     },
     "execution_count": 62,
     "metadata": {},
     "output_type": "execute_result"
    }
   ],
   "source": [
    "len(android_english)"
   ]
  },
  {
   "cell_type": "code",
   "execution_count": 66,
   "metadata": {},
   "outputs": [],
   "source": [
    "ios_english=[]\n",
    "for app in ios:\n",
    "    if english(app[1])==True:\n",
    "        ios_english.append(app)"
   ]
  },
  {
   "cell_type": "code",
   "execution_count": 67,
   "metadata": {},
   "outputs": [
    {
     "data": {
      "text/plain": [
       "6183"
      ]
     },
     "execution_count": 67,
     "metadata": {},
     "output_type": "execute_result"
    }
   ],
   "source": [
    "len(ios_english)"
   ]
  },
  {
   "cell_type": "code",
   "execution_count": 74,
   "metadata": {},
   "outputs": [],
   "source": [
    "ios_free=[]\n",
    "\n",
    "for app in ios_english:\n",
    "    if app[4]==\"0.0\":\n",
    "        ios_free.append(app)"
   ]
  },
  {
   "cell_type": "code",
   "execution_count": 75,
   "metadata": {},
   "outputs": [
    {
     "data": {
      "text/plain": [
       "3222"
      ]
     },
     "execution_count": 75,
     "metadata": {},
     "output_type": "execute_result"
    }
   ],
   "source": [
    "len(ios_free)"
   ]
  },
  {
   "cell_type": "code",
   "execution_count": 76,
   "metadata": {},
   "outputs": [],
   "source": [
    "android_free=[]\n",
    "\n",
    "for app in android_english:\n",
    "    if app[6]==\"Free\":\n",
    "        android_free.append(app)"
   ]
  },
  {
   "cell_type": "code",
   "execution_count": 77,
   "metadata": {},
   "outputs": [
    {
     "data": {
      "text/plain": [
       "8863"
      ]
     },
     "execution_count": 77,
     "metadata": {},
     "output_type": "execute_result"
    }
   ],
   "source": [
    "len(android_free)"
   ]
  },
  {
   "cell_type": "markdown",
   "metadata": {},
   "source": [
    "#### We want to find an app that fits both the App store and Google play market, because we want to reach as much people as we can.\n",
    "    1-We will develop and app for Google play because this platform has more demand than the ios marker\n",
    "    2-We will wait and see how the app develops throughout a period of time.\n",
    "    3-If the app is developing in a \"good\" way, we developed it further and offer it in the App Store as well.\n",
    "    \n",
    "#### To have an idea of waht kind of app we should develop, we will look into the dataset, especifically into the columns \"Genres\" and Category\" for the android dataset and \"prime_genre\" for the ios dataset    \n",
    "    \n",
    " "
   ]
  },
  {
   "cell_type": "markdown",
   "metadata": {},
   "source": [
    "#### Here we generate a function that creates a  frequency table, and also a display that takes our frequency function and displays it in a descending order."
   ]
  },
  {
   "cell_type": "code",
   "execution_count": 78,
   "metadata": {},
   "outputs": [],
   "source": [
    "def freq_table(dataset, index):\n",
    "    table = {}\n",
    "    total = 0\n",
    "    \n",
    "    for row in dataset:\n",
    "        total += 1\n",
    "        value = row[index]\n",
    "        if value in table:\n",
    "            table[value] += 1\n",
    "        else:\n",
    "            table[value] = 1\n",
    "    \n",
    "    table_percentages = {}\n",
    "    for key in table:\n",
    "        percentage = (table[key] / total) * 100\n",
    "        table_percentages[key] = percentage \n",
    "    \n",
    "    return table_percentages"
   ]
  },
  {
   "cell_type": "code",
   "execution_count": 79,
   "metadata": {},
   "outputs": [],
   "source": [
    "def display_table(dataset, index):\n",
    "    table = freq_table(dataset, index)\n",
    "    table_display = []\n",
    "    for key in table:\n",
    "        key_val_as_tuple = (table[key], key)\n",
    "        table_display.append(key_val_as_tuple)\n",
    "\n",
    "    table_sorted = sorted(table_display, reverse = True)\n",
    "    for entry in table_sorted:\n",
    "        print(entry[1], ':', entry[0])"
   ]
  },
  {
   "cell_type": "code",
   "execution_count": 81,
   "metadata": {},
   "outputs": [
    {
     "name": "stdout",
     "output_type": "stream",
     "text": [
      "Games : 58.16263190564867\n",
      "Entertainment : 7.883302296710118\n",
      "Photo & Video : 4.9658597144630665\n",
      "Education : 3.662321539416512\n",
      "Social Networking : 3.2898820608317814\n",
      "Shopping : 2.60707635009311\n",
      "Utilities : 2.5139664804469275\n",
      "Sports : 2.1415270018621975\n",
      "Music : 2.0484171322160147\n",
      "Health & Fitness : 2.0173805090006205\n",
      "Productivity : 1.7380509000620732\n",
      "Lifestyle : 1.5828677839851024\n",
      "News : 1.3345747982619491\n",
      "Travel : 1.2414649286157666\n",
      "Finance : 1.1173184357541899\n",
      "Weather : 0.8690254500310366\n",
      "Food & Drink : 0.8069522036002483\n",
      "Reference : 0.5586592178770949\n",
      "Business : 0.5276225946617008\n",
      "Book : 0.4345127250155183\n",
      "Navigation : 0.186219739292365\n",
      "Medical : 0.186219739292365\n",
      "Catalogs : 0.12414649286157665\n"
     ]
    }
   ],
   "source": [
    "display_table(ios_free,11)"
   ]
  },
  {
   "cell_type": "code",
   "execution_count": 82,
   "metadata": {},
   "outputs": [
    {
     "name": "stdout",
     "output_type": "stream",
     "text": [
      "Tools : 8.450863138892023\n",
      "Entertainment : 6.070179397495204\n",
      "Education : 5.348076272142616\n",
      "Business : 4.592124562789123\n",
      "Productivity : 3.8925871601038025\n",
      "Lifestyle : 3.8925871601038025\n",
      "Finance : 3.7007785174320205\n",
      "Medical : 3.5315355974275078\n",
      "Sports : 3.463838429425702\n",
      "Personalization : 3.317161232088458\n",
      "Communication : 3.2381812027530184\n",
      "Action : 3.102786866749408\n",
      "Health & Fitness : 3.0802211440821394\n",
      "Photography : 2.944826808078529\n",
      "News & Magazines : 2.798149610741284\n",
      "Social : 2.6627552747376737\n",
      "Travel & Local : 2.324269434728647\n",
      "Shopping : 2.245289405393208\n",
      "Books & Reference : 2.1437436533904997\n",
      "Simulation : 2.042197901387792\n",
      "Dating : 1.8616721200496444\n",
      "Arcade : 1.8503892587160102\n",
      "Video Players & Editors : 1.771409229380571\n",
      "Casual : 1.7601263680469368\n",
      "Maps & Navigation : 1.399074805370642\n",
      "Food & Drink : 1.241114746699763\n",
      "Puzzle : 1.128286133363421\n",
      "Racing : 0.9928917973598104\n",
      "Role Playing : 0.9364774906916393\n",
      "Libraries & Demo : 0.9364774906916393\n",
      "Auto & Vehicles : 0.9251946293580051\n",
      "Strategy : 0.9026289066907368\n",
      "House & Home : 0.8236488773552973\n",
      "Weather : 0.8010831546880289\n",
      "Events : 0.7108202640189552\n",
      "Adventure : 0.6769716800180525\n",
      "Comics : 0.6092745120162473\n",
      "Beauty : 0.5979916506826132\n",
      "Art & Design : 0.5979916506826132\n",
      "Parenting : 0.4964458986799052\n",
      "Card : 0.4513144533453684\n",
      "Casino : 0.42874873067809993\n",
      "Trivia : 0.4174658693444658\n",
      "Educational;Education : 0.3949001466771973\n",
      "Board : 0.38361728534356315\n",
      "Educational : 0.37233442400992894\n",
      "Education;Education : 0.33848584000902626\n",
      "Word : 0.25950581067358686\n",
      "Casual;Pretend Play : 0.2369400880063184\n",
      "Music : 0.20309150400541578\n",
      "Racing;Action & Adventure : 0.16924292000451313\n",
      "Puzzle;Brain Games : 0.16924292000451313\n",
      "Entertainment;Music & Video : 0.16924292000451313\n",
      "Casual;Brain Games : 0.1353943360036105\n",
      "Casual;Action & Adventure : 0.1353943360036105\n",
      "Arcade;Action & Adventure : 0.1241114746699763\n",
      "Action;Action & Adventure : 0.10154575200270789\n",
      "Educational;Pretend Play : 0.09026289066907367\n",
      "Simulation;Action & Adventure : 0.07898002933543948\n",
      "Parenting;Education : 0.07898002933543948\n",
      "Entertainment;Brain Games : 0.07898002933543948\n",
      "Board;Brain Games : 0.07898002933543948\n",
      "Parenting;Music & Video : 0.06769716800180525\n",
      "Educational;Brain Games : 0.06769716800180525\n",
      "Casual;Creativity : 0.06769716800180525\n",
      "Art & Design;Creativity : 0.06769716800180525\n",
      "Education;Pretend Play : 0.05641430666817105\n",
      "Role Playing;Pretend Play : 0.045131445334536835\n",
      "Education;Creativity : 0.045131445334536835\n",
      "Role Playing;Action & Adventure : 0.033848584000902626\n",
      "Puzzle;Action & Adventure : 0.033848584000902626\n",
      "Entertainment;Creativity : 0.033848584000902626\n",
      "Entertainment;Action & Adventure : 0.033848584000902626\n",
      "Educational;Creativity : 0.033848584000902626\n",
      "Educational;Action & Adventure : 0.033848584000902626\n",
      "Education;Music & Video : 0.033848584000902626\n",
      "Education;Brain Games : 0.033848584000902626\n",
      "Education;Action & Adventure : 0.033848584000902626\n",
      "Adventure;Action & Adventure : 0.033848584000902626\n",
      "Video Players & Editors;Music & Video : 0.022565722667268417\n",
      "Sports;Action & Adventure : 0.022565722667268417\n",
      "Simulation;Pretend Play : 0.022565722667268417\n",
      "Puzzle;Creativity : 0.022565722667268417\n",
      "Music;Music & Video : 0.022565722667268417\n",
      "Entertainment;Pretend Play : 0.022565722667268417\n",
      "Casual;Education : 0.022565722667268417\n",
      "Board;Action & Adventure : 0.022565722667268417\n",
      "Video Players & Editors;Creativity : 0.011282861333634209\n",
      "Trivia;Education : 0.011282861333634209\n",
      "Travel & Local;Action & Adventure : 0.011282861333634209\n",
      "Tools;Education : 0.011282861333634209\n",
      "Strategy;Education : 0.011282861333634209\n",
      "Strategy;Creativity : 0.011282861333634209\n",
      "Strategy;Action & Adventure : 0.011282861333634209\n",
      "Simulation;Education : 0.011282861333634209\n",
      "Role Playing;Brain Games : 0.011282861333634209\n",
      "Racing;Pretend Play : 0.011282861333634209\n",
      "Puzzle;Education : 0.011282861333634209\n",
      "Parenting;Brain Games : 0.011282861333634209\n",
      "Music & Audio;Music & Video : 0.011282861333634209\n",
      "Lifestyle;Pretend Play : 0.011282861333634209\n",
      "Lifestyle;Education : 0.011282861333634209\n",
      "Health & Fitness;Education : 0.011282861333634209\n",
      "Health & Fitness;Action & Adventure : 0.011282861333634209\n",
      "Entertainment;Education : 0.011282861333634209\n",
      "Communication;Creativity : 0.011282861333634209\n",
      "Comics;Creativity : 0.011282861333634209\n",
      "Casual;Music & Video : 0.011282861333634209\n",
      "Card;Action & Adventure : 0.011282861333634209\n",
      "Books & Reference;Education : 0.011282861333634209\n",
      "Art & Design;Pretend Play : 0.011282861333634209\n",
      "Art & Design;Action & Adventure : 0.011282861333634209\n",
      "Arcade;Pretend Play : 0.011282861333634209\n",
      "Adventure;Education : 0.011282861333634209\n"
     ]
    }
   ],
   "source": [
    "display_table(android_free,9)"
   ]
  },
  {
   "cell_type": "code",
   "execution_count": 83,
   "metadata": {},
   "outputs": [
    {
     "name": "stdout",
     "output_type": "stream",
     "text": [
      "FAMILY : 18.898792733837304\n",
      "GAME : 9.725826469592688\n",
      "TOOLS : 8.462146000225657\n",
      "BUSINESS : 4.592124562789123\n",
      "LIFESTYLE : 3.9038700214374367\n",
      "PRODUCTIVITY : 3.8925871601038025\n",
      "FINANCE : 3.7007785174320205\n",
      "MEDICAL : 3.5315355974275078\n",
      "SPORTS : 3.396141261423897\n",
      "PERSONALIZATION : 3.317161232088458\n",
      "COMMUNICATION : 3.2381812027530184\n",
      "HEALTH_AND_FITNESS : 3.0802211440821394\n",
      "PHOTOGRAPHY : 2.944826808078529\n",
      "NEWS_AND_MAGAZINES : 2.798149610741284\n",
      "SOCIAL : 2.6627552747376737\n",
      "TRAVEL_AND_LOCAL : 2.335552296062281\n",
      "SHOPPING : 2.245289405393208\n",
      "BOOKS_AND_REFERENCE : 2.1437436533904997\n",
      "DATING : 1.8616721200496444\n",
      "VIDEO_PLAYERS : 1.7939749520478394\n",
      "MAPS_AND_NAVIGATION : 1.399074805370642\n",
      "FOOD_AND_DRINK : 1.241114746699763\n",
      "EDUCATION : 1.1621347173643235\n",
      "ENTERTAINMENT : 0.9590432133589079\n",
      "LIBRARIES_AND_DEMO : 0.9364774906916393\n",
      "AUTO_AND_VEHICLES : 0.9251946293580051\n",
      "HOUSE_AND_HOME : 0.8236488773552973\n",
      "WEATHER : 0.8010831546880289\n",
      "EVENTS : 0.7108202640189552\n",
      "PARENTING : 0.6544059573507841\n",
      "ART_AND_DESIGN : 0.6431230960171499\n",
      "COMICS : 0.6205573733498815\n",
      "BEAUTY : 0.5979916506826132\n"
     ]
    }
   ],
   "source": [
    "display_table(android_free,1)"
   ]
  },
  {
   "cell_type": "code",
   "execution_count": 96,
   "metadata": {},
   "outputs": [
    {
     "name": "stdout",
     "output_type": "stream",
     "text": [
      "Social Networking : 71548.34905660378\n",
      "Photo & Video : 28441.54375\n",
      "Games : 22788.6696905016\n",
      "Music : 57326.530303030304\n",
      "Reference : 74942.11111111111\n",
      "Health & Fitness : 23298.015384615384\n",
      "Weather : 52279.892857142855\n",
      "Utilities : 18684.456790123455\n",
      "Travel : 28243.8\n",
      "Shopping : 26919.690476190477\n",
      "News : 21248.023255813954\n",
      "Navigation : 86090.33333333333\n",
      "Lifestyle : 16485.764705882353\n",
      "Entertainment : 14029.830708661417\n",
      "Food & Drink : 33333.92307692308\n",
      "Sports : 23008.898550724636\n",
      "Book : 39758.5\n",
      "Finance : 31467.944444444445\n",
      "Education : 7003.983050847458\n",
      "Productivity : 21028.410714285714\n",
      "Business : 7491.117647058823\n",
      "Catalogs : 4004.0\n",
      "Medical : 612.0\n"
     ]
    }
   ],
   "source": [
    "x=freq_table(ios_free,11)\n",
    "\n",
    "for genre in x:\n",
    "    total=0\n",
    "    len_genre=0\n",
    "    for app in ios_free:\n",
    "        genre_app=app[11]\n",
    "        if genre_app==genre:\n",
    "            n_ratings= float(app[5])\n",
    "            total+=n_ratings\n",
    "            len_genre += 1\n",
    "            \n",
    "    average= total/len_genre\n",
    "    print(genre, \":\",average)"
   ]
  },
  {
   "cell_type": "markdown",
   "metadata": {},
   "source": [
    "#### On average, navigation apps have the highest number of user reviews, but this figure is heavily influenced by Waze and Google Maps, which have close to half a million user reviews together:"
   ]
  },
  {
   "cell_type": "code",
   "execution_count": 102,
   "metadata": {},
   "outputs": [
    {
     "name": "stdout",
     "output_type": "stream",
     "text": [
      "Waze - GPS Navigation, Maps & Real-time Traffic : 345046\n",
      "Google Maps - Navigation & Transit : 154911\n",
      "Geocaching® : 12811\n",
      "CoPilot GPS – Car Navigation & Offline Maps : 3582\n",
      "ImmobilienScout24: Real Estate Search in Germany : 187\n",
      "Railway Route Search : 5\n"
     ]
    }
   ],
   "source": [
    "for app in ios_free:\n",
    "    if app[-5] == 'Navigation':\n",
    "        print(app[1], ':', app[5])"
   ]
  },
  {
   "cell_type": "markdown",
   "metadata": {},
   "source": [
    "#### Here we can see that this number is heavily influenced by some big apps, so we dont want to take this into account, we can see that his occurs also in the music industry and communication, our goal here is to find a market in which we can compete and develop something that can really make an impact."
   ]
  },
  {
   "cell_type": "code",
   "execution_count": 106,
   "metadata": {},
   "outputs": [
    {
     "name": "stdout",
     "output_type": "stream",
     "text": [
      "The Weather Channel: Forecast, Radar & Alerts : 495626\n",
      "The Weather Channel App for iPad – best local forecast, radar map, and storm tracking : 208648\n",
      "WeatherBug - Local Weather, Radar, Maps, Alerts : 188583\n",
      "MyRadar NOAA Weather Radar Forecast : 150158\n",
      "AccuWeather - Weather for Life : 144214\n",
      "Yahoo Weather : 112603\n",
      "Weather Underground: Custom Forecast & Local Radar : 49192\n",
      "NOAA Weather Radar - Weather Forecast & HD Radar : 45696\n",
      "Weather Live Free - Weather Forecast & Alerts : 35702\n",
      "Storm Radar : 22792\n",
      "QuakeFeed Earthquake Map, Alerts, and News : 6081\n",
      "Moji Weather - Free Weather Forecast : 2333\n",
      "Hurricane by American Red Cross : 1158\n",
      "Forecast Bar : 375\n",
      "Hurricane Tracker WESH 2 Orlando, Central Florida : 203\n",
      "FEMA : 128\n",
      "iWeather - World weather forecast : 80\n",
      "Weather - Radar - Storm with Morecast App : 78\n",
      "Yurekuru Call : 53\n",
      "Weather & Radar : 37\n",
      "WRAL Weather Alert : 25\n",
      "Météo-France : 24\n",
      "JaxReady : 22\n",
      "Freddy the Frogcaster's Weather Station : 14\n",
      "Almanac Long-Range Weather Forecast : 12\n",
      "TodayAir : 0\n",
      "wetter.com : 0\n",
      "WarnWetter : 0\n"
     ]
    }
   ],
   "source": [
    "for app in ios_free:\n",
    "    if app[-5] == 'Weather':\n",
    "        print(app[1], ':', app[5])"
   ]
  },
  {
   "cell_type": "code",
   "execution_count": 107,
   "metadata": {},
   "outputs": [
    {
     "name": "stdout",
     "output_type": "stream",
     "text": [
      "Bible : 985920\n",
      "Dictionary.com Dictionary & Thesaurus : 200047\n",
      "Dictionary.com Dictionary & Thesaurus for iPad : 54175\n",
      "Google Translate : 26786\n",
      "Muslim Pro: Ramadan 2017 Prayer Times, Azan, Quran : 18418\n",
      "New Furniture Mods - Pocket Wiki & Game Tools for Minecraft PC Edition : 17588\n",
      "Merriam-Webster Dictionary : 16849\n",
      "Night Sky : 12122\n",
      "City Maps for Minecraft PE - The Best Maps for Minecraft Pocket Edition (MCPE) : 8535\n",
      "LUCKY BLOCK MOD ™ for Minecraft PC Edition - The Best Pocket Wiki & Mods Installer Tools : 4693\n",
      "GUNS MODS for Minecraft PC Edition - Mods Tools : 1497\n",
      "Guides for Pokémon GO - Pokemon GO News and Cheats : 826\n",
      "WWDC : 762\n",
      "Horror Maps for Minecraft PE - Download The Scariest Maps for Minecraft Pocket Edition (MCPE) Free : 718\n",
      "VPN Express : 14\n",
      "Real Bike Traffic Rider Virtual Reality Glasses : 8\n",
      "教えて!goo : 0\n",
      "Jishokun-Japanese English Dictionary & Translator : 0\n"
     ]
    }
   ],
   "source": [
    "for app in ios_free:\n",
    "    if app[-5] == 'Reference':\n",
    "        print(app[1], ':', app[5])"
   ]
  },
  {
   "cell_type": "markdown",
   "metadata": {},
   "source": [
    "#### Here we can see that this column is influenced by the Bible, but this is a good market to look at, since we can take another famous book (Lord of the rings, Harry Potter, Torah) and applied the same approach as the Bible app does, and same applies for the Weather market, even though the forecast market is full, we can try and develop and app specifically for south american countries or an app that reccomend us what to wear according to the forecast."
   ]
  },
  {
   "cell_type": "code",
   "execution_count": 100,
   "metadata": {},
   "outputs": [
    {
     "name": "stdout",
     "output_type": "stream",
     "text": [
      "ART_AND_DESIGN : 1986335.0877192982\n",
      "AUTO_AND_VEHICLES : 647317.8170731707\n",
      "BEAUTY : 513151.88679245283\n",
      "BOOKS_AND_REFERENCE : 8767811.894736841\n",
      "BUSINESS : 1712290.1474201474\n",
      "COMICS : 817657.2727272727\n",
      "COMMUNICATION : 38456119.167247385\n",
      "DATING : 854028.8303030303\n",
      "EDUCATION : 1833495.145631068\n",
      "ENTERTAINMENT : 11640705.88235294\n",
      "EVENTS : 253542.22222222222\n",
      "FINANCE : 1387692.475609756\n",
      "FOOD_AND_DRINK : 1924897.7363636363\n",
      "HEALTH_AND_FITNESS : 4188821.9853479853\n",
      "HOUSE_AND_HOME : 1331540.5616438356\n",
      "LIBRARIES_AND_DEMO : 638503.734939759\n",
      "LIFESTYLE : 1437816.2687861272\n",
      "GAME : 15588015.603248259\n",
      "FAMILY : 3697848.1731343283\n",
      "MEDICAL : 120550.61980830671\n",
      "SOCIAL : 23253652.127118643\n",
      "SHOPPING : 7036877.311557789\n",
      "PHOTOGRAPHY : 17840110.40229885\n",
      "SPORTS : 3638640.1428571427\n",
      "TRAVEL_AND_LOCAL : 13984077.710144928\n",
      "TOOLS : 10801391.298666667\n",
      "PERSONALIZATION : 5201482.6122448975\n",
      "PRODUCTIVITY : 16787331.344927534\n",
      "PARENTING : 542603.6206896552\n",
      "WEATHER : 5074486.197183099\n",
      "VIDEO_PLAYERS : 24727872.452830188\n",
      "NEWS_AND_MAGAZINES : 9549178.467741935\n",
      "MAPS_AND_NAVIGATION : 4056941.7741935486\n"
     ]
    }
   ],
   "source": [
    "cat=freq_table(android_free,1)\n",
    "for category in cat:\n",
    "    total=0\n",
    "    len_category=0\n",
    "    for app in android_free:\n",
    "        category_app=app[1]\n",
    "        if category_app == category:\n",
    "            n_installs= app[5]\n",
    "            n_installs=n_installs.replace(\"+\",\"\")\n",
    "            n_installs=n_installs.replace(\",\",\"\")\n",
    "            total+= float(n_installs)\n",
    "            len_category += 1\n",
    "            \n",
    "    average= total/len_category\n",
    "    print(category, \":\",average)"
   ]
  },
  {
   "cell_type": "code",
   "execution_count": 109,
   "metadata": {},
   "outputs": [
    {
     "name": "stdout",
     "output_type": "stream",
     "text": [
      "WhatsApp Messenger : 1,000,000,000+\n",
      "imo beta free calls and text : 100,000,000+\n",
      "Android Messages : 100,000,000+\n",
      "Google Duo - High Quality Video Calls : 500,000,000+\n",
      "Messenger – Text and Video Chat for Free : 1,000,000,000+\n",
      "imo free video calls and chat : 500,000,000+\n",
      "Skype - free IM & video calls : 1,000,000,000+\n",
      "Who : 100,000,000+\n",
      "GO SMS Pro - Messenger, Free Themes, Emoji : 100,000,000+\n",
      "LINE: Free Calls & Messages : 500,000,000+\n",
      "Google Chrome: Fast & Secure : 1,000,000,000+\n",
      "Firefox Browser fast & private : 100,000,000+\n",
      "UC Browser - Fast Download Private & Secure : 500,000,000+\n",
      "Gmail : 1,000,000,000+\n",
      "Hangouts : 1,000,000,000+\n",
      "Messenger Lite: Free Calls & Messages : 100,000,000+\n",
      "Kik : 100,000,000+\n",
      "KakaoTalk: Free Calls & Text : 100,000,000+\n",
      "Opera Mini - fast web browser : 100,000,000+\n",
      "Opera Browser: Fast and Secure : 100,000,000+\n",
      "Telegram : 100,000,000+\n",
      "Truecaller: Caller ID, SMS spam blocking & Dialer : 100,000,000+\n",
      "UC Browser Mini -Tiny Fast Private & Secure : 100,000,000+\n",
      "Viber Messenger : 500,000,000+\n",
      "WeChat : 100,000,000+\n",
      "Yahoo Mail – Stay Organized : 100,000,000+\n",
      "BBM - Free Calls & Messages : 100,000,000+\n"
     ]
    }
   ],
   "source": [
    "for app in android_free:\n",
    "    if app[1] == 'COMMUNICATION' and (app[5] == '1,000,000,000+'\n",
    "                                      or app[5] == '500,000,000+'\n",
    "                                      or app[5] == '100,000,000+'):\n",
    "        print(app[0], ':', app[5])"
   ]
  },
  {
   "cell_type": "markdown",
   "metadata": {},
   "source": [
    "#### If we removed all the communication apps that have over 100 million installs, the average would be reduced roughly ten times:"
   ]
  },
  {
   "cell_type": "code",
   "execution_count": 111,
   "metadata": {},
   "outputs": [
    {
     "data": {
      "text/plain": [
       "3603485.3884615386"
      ]
     },
     "execution_count": 111,
     "metadata": {},
     "output_type": "execute_result"
    }
   ],
   "source": [
    "under_100_m = []\n",
    "\n",
    "for app in android_free:\n",
    "    n_installs = app[5]\n",
    "    n_installs = n_installs.replace(',', '')\n",
    "    n_installs = n_installs.replace('+', '')\n",
    "    if (app[1] == 'COMMUNICATION') and (float(n_installs) < 100000000):\n",
    "        under_100_m.append(float(n_installs))\n",
    "        \n",
    "sum(under_100_m) / len(under_100_m)"
   ]
  },
  {
   "cell_type": "code",
   "execution_count": 113,
   "metadata": {},
   "outputs": [
    {
     "name": "stdout",
     "output_type": "stream",
     "text": [
      "E-Book Read - Read Book for free : 50,000+\n",
      "Download free book with green book : 100,000+\n",
      "Wikipedia : 10,000,000+\n",
      "Cool Reader : 10,000,000+\n",
      "Free Panda Radio Music : 100,000+\n",
      "Book store : 1,000,000+\n",
      "FBReader: Favorite Book Reader : 10,000,000+\n",
      "English Grammar Complete Handbook : 500,000+\n",
      "Free Books - Spirit Fanfiction and Stories : 1,000,000+\n",
      "Google Play Books : 1,000,000,000+\n",
      "AlReader -any text book reader : 5,000,000+\n",
      "Offline English Dictionary : 100,000+\n",
      "Offline: English to Tagalog Dictionary : 500,000+\n",
      "FamilySearch Tree : 1,000,000+\n",
      "Cloud of Books : 1,000,000+\n",
      "Recipes of Prophetic Medicine for free : 500,000+\n",
      "ReadEra – free ebook reader : 1,000,000+\n",
      "Anonymous caller detection : 10,000+\n",
      "Ebook Reader : 5,000,000+\n",
      "Litnet - E-books : 100,000+\n",
      "Read books online : 5,000,000+\n",
      "English to Urdu Dictionary : 500,000+\n",
      "eBoox: book reader fb2 epub zip : 1,000,000+\n",
      "English Persian Dictionary : 500,000+\n",
      "Flybook : 500,000+\n",
      "All Maths Formulas : 1,000,000+\n",
      "Ancestry : 5,000,000+\n",
      "HTC Help : 10,000,000+\n",
      "English translation from Bengali : 100,000+\n",
      "Pdf Book Download - Read Pdf Book : 100,000+\n",
      "Free Book Reader : 100,000+\n",
      "eBoox new: Reader for fb2 epub zip books : 50,000+\n",
      "Only 30 days in English, the guideline is guaranteed : 500,000+\n",
      "Moon+ Reader : 10,000,000+\n",
      "SH-02J Owner's Manual (Android 8.0) : 50,000+\n",
      "English-Myanmar Dictionary : 1,000,000+\n",
      "Golden Dictionary (EN-AR) : 1,000,000+\n",
      "All Language Translator Free : 1,000,000+\n",
      "Azpen eReader : 500,000+\n",
      "URBANO V 02 instruction manual : 100,000+\n",
      "Bible : 100,000,000+\n",
      "C Programs and Reference : 50,000+\n",
      "C Offline Tutorial : 1,000+\n",
      "C Programs Handbook : 50,000+\n",
      "Amazon Kindle : 100,000,000+\n",
      "Aab e Hayat Full Novel : 100,000+\n",
      "Aldiko Book Reader : 10,000,000+\n",
      "Google I/O 2018 : 500,000+\n",
      "R Language Reference Guide : 10,000+\n",
      "Learn R Programming Full : 5,000+\n",
      "R Programing Offline Tutorial : 1,000+\n",
      "Guide for R Programming : 5+\n",
      "Learn R Programming : 10+\n",
      "R Quick Reference Big Data : 1,000+\n",
      "V Made : 100,000+\n",
      "Wattpad 📖 Free Books : 100,000,000+\n",
      "Dictionary - WordWeb : 5,000,000+\n",
      "Guide (for X-MEN) : 100,000+\n",
      "AC Air condition Troubleshoot,Repair,Maintenance : 5,000+\n",
      "AE Bulletins : 1,000+\n",
      "Ae Allah na Dai (Rasa) : 10,000+\n",
      "50000 Free eBooks & Free AudioBooks : 5,000,000+\n",
      "Ag PhD Field Guide : 10,000+\n",
      "Ag PhD Deficiencies : 10,000+\n",
      "Ag PhD Planting Population Calculator : 1,000+\n",
      "Ag PhD Soybean Diseases : 1,000+\n",
      "Fertilizer Removal By Crop : 50,000+\n",
      "A-J Media Vault : 50+\n",
      "Al-Quran (Free) : 10,000,000+\n",
      "Al Quran (Tafsir & by Word) : 500,000+\n",
      "Al Quran Indonesia : 10,000,000+\n",
      "Al'Quran Bahasa Indonesia : 10,000,000+\n",
      "Al Quran Al karim : 1,000,000+\n",
      "Al-Muhaffiz : 50,000+\n",
      "Al Quran : EAlim - Translations & MP3 Offline : 5,000,000+\n",
      "Al-Quran 30 Juz free copies : 500,000+\n",
      "Koran Read &MP3 30 Juz Offline : 1,000,000+\n",
      "Hafizi Quran 15 lines per page : 1,000,000+\n",
      "Quran for Android : 10,000,000+\n",
      "Surah Al-Waqiah : 100,000+\n",
      "Hisnul Al Muslim - Hisn Invocations & Adhkaar : 100,000+\n",
      "Satellite AR : 1,000,000+\n",
      "Audiobooks from Audible : 100,000,000+\n",
      "Kinot & Eichah for Tisha B'Av : 10,000+\n",
      "AW Tozer Devotionals - Daily : 5,000+\n",
      "Tozer Devotional -Series 1 : 1,000+\n",
      "The Pursuit of God : 1,000+\n",
      "AY Sing : 5,000+\n",
      "Ay Hasnain k Nana Milad Naat : 10,000+\n",
      "Ay Mohabbat Teri Khatir Novel : 10,000+\n",
      "Arizona Statutes, ARS (AZ Law) : 1,000+\n",
      "Oxford A-Z of English Usage : 1,000,000+\n",
      "BD Fishpedia : 1,000+\n",
      "BD All Sim Offer : 10,000+\n",
      "Youboox - Livres, BD et magazines : 500,000+\n",
      "B&H Kids AR : 10,000+\n",
      "B y H Niños ES : 5,000+\n",
      "Dictionary.com: Find Definitions for English Words : 10,000,000+\n",
      "English Dictionary - Offline : 10,000,000+\n",
      "Bible KJV : 5,000,000+\n",
      "Borneo Bible, BM Bible : 10,000+\n",
      "MOD Black for BM : 100+\n",
      "BM Box : 1,000+\n",
      "Anime Mod for BM : 100+\n",
      "NOOK: Read eBooks & Magazines : 10,000,000+\n",
      "NOOK Audiobooks : 500,000+\n",
      "NOOK App for NOOK Devices : 500,000+\n",
      "Browsery by Barnes & Noble : 5,000+\n",
      "bp e-store : 1,000+\n",
      "Brilliant Quotes: Life, Love, Family & Motivation : 1,000,000+\n",
      "BR Ambedkar Biography & Quotes : 10,000+\n",
      "BU Alsace : 100+\n",
      "Catholic La Bu Zo Kam : 500+\n",
      "Khrifa Hla Bu (Solfa) : 10+\n",
      "Kristian Hla Bu : 10,000+\n",
      "SA HLA BU : 1,000+\n",
      "Learn SAP BW : 500+\n",
      "Learn SAP BW on HANA : 500+\n",
      "CA Laws 2018 (California Laws and Codes) : 5,000+\n",
      "Bootable Methods(USB-CD-DVD) : 10,000+\n",
      "cloudLibrary : 100,000+\n",
      "SDA Collegiate Quarterly : 500+\n",
      "Sabbath School : 100,000+\n",
      "Cypress College Library : 100+\n",
      "Stats Royale for Clash Royale : 1,000,000+\n",
      "GATE 21 years CS Papers(2011-2018 Solved) : 50+\n",
      "Learn CT Scan Of Head : 5,000+\n",
      "Easy Cv maker 2018 : 10,000+\n",
      "How to Write CV : 100,000+\n",
      "CW Nuclear : 1,000+\n",
      "CY Spray nozzle : 10+\n",
      "BibleRead En Cy Zh Yue : 5+\n",
      "CZ-Help : 5+\n",
      "Modlitební knížka CZ : 500+\n",
      "Guide for DB Xenoverse : 10,000+\n",
      "Guide for DB Xenoverse 2 : 10,000+\n",
      "Guide for IMS DB : 10+\n",
      "DC HSEMA : 5,000+\n",
      "DC Public Library : 1,000+\n",
      "Painting Lulu DC Super Friends : 1,000+\n",
      "Dictionary : 10,000,000+\n",
      "Fix Error Google Playstore : 1,000+\n",
      "D. H. Lawrence Poems FREE : 1,000+\n",
      "Bilingual Dictionary Audio App : 5,000+\n",
      "DM Screen : 10,000+\n",
      "wikiHow: how to do anything : 1,000,000+\n",
      "Dr. Doug's Tips : 1,000+\n",
      "Bible du Semeur-BDS (French) : 50,000+\n",
      "La citadelle du musulman : 50,000+\n",
      "DV 2019 Entry Guide : 10,000+\n",
      "DV 2019 - EDV Photo & Form : 50,000+\n",
      "DV 2018 Winners Guide : 1,000+\n",
      "EB Annual Meetings : 1,000+\n",
      "EC - AP & Telangana : 5,000+\n",
      "TN Patta Citta & EC : 10,000+\n",
      "AP Stamps and Registration : 10,000+\n",
      "CompactiMa EC pH Calibration : 100+\n",
      "EGW Writings 2 : 100,000+\n",
      "EGW Writings : 1,000,000+\n",
      "Bible with EGW Comments : 100,000+\n",
      "My Little Pony AR Guide : 1,000,000+\n",
      "SDA Sabbath School Quarterly : 500,000+\n",
      "Duaa Ek Ibaadat : 5,000+\n",
      "Spanish English Translator : 10,000,000+\n",
      "Dictionary - Merriam-Webster : 10,000,000+\n",
      "JW Library : 10,000,000+\n",
      "Oxford Dictionary of English : Free : 10,000,000+\n",
      "English Hindi Dictionary : 10,000,000+\n",
      "English to Hindi Dictionary : 5,000,000+\n",
      "EP Research Service : 1,000+\n",
      "Hymnes et Louanges : 100,000+\n",
      "EU Charter : 1,000+\n",
      "EU Data Protection : 1,000+\n",
      "EU IP Codes : 100+\n",
      "EW PDF : 5+\n",
      "BakaReader EX : 100,000+\n",
      "EZ Quran : 50,000+\n",
      "FA Part 1 & 2 Past Papers Solved Free – Offline : 5,000+\n",
      "La Fe de Jesus : 1,000+\n",
      "La Fe de Jesús : 500+\n",
      "Le Fe de Jesus : 500+\n",
      "Florida - Pocket Brainbook : 1,000+\n",
      "Florida Statutes (FL Code) : 1,000+\n",
      "English To Shona Dictionary : 10,000+\n",
      "Greek Bible FP (Audio) : 1,000+\n",
      "Golden Dictionary (FR-AR) : 500,000+\n",
      "Fanfic-FR : 5,000+\n",
      "Bulgarian French Dictionary Fr : 10,000+\n",
      "Chemin (fr) : 1,000+\n",
      "The SCP Foundation DB fr nn5n : 1,000+\n"
     ]
    }
   ],
   "source": [
    "for app in android_free:\n",
    "    if app[1] == 'BOOKS_AND_REFERENCE':\n",
    "        print(app[0], ':', app[5])"
   ]
  },
  {
   "cell_type": "code",
   "execution_count": 114,
   "metadata": {},
   "outputs": [
    {
     "name": "stdout",
     "output_type": "stream",
     "text": [
      "The Weather Channel: Rain Forecast & Storm Alerts : 50,000,000+\n",
      "Weather forecast : 1,000,000+\n",
      "AccuWeather: Daily Forecast & Live Weather Reports : 50,000,000+\n",
      "Live Weather Pro : 10,000+\n",
      "Weather by WeatherBug: Forecast, Radar & Alerts : 10,000,000+\n",
      "weather - weather forecast : 1,000,000+\n",
      "MyRadar NOAA Weather Radar : 10,000,000+\n",
      "SMHI Weather : 1,000,000+\n",
      "Free live weather on screen : 1,000,000+\n",
      "Weather Radar Widget : 1,000,000+\n",
      "Weather –Simple weather forecast : 10,000,000+\n",
      "Weather Crave : 5,000,000+\n",
      "Klara weather : 500,000+\n",
      "Yahoo Weather : 10,000,000+\n",
      "Real time Weather Forecast : 1,000,000+\n",
      "METEO FRANCE : 5,000,000+\n",
      "APE Weather ( Live Forecast) : 5,000,000+\n",
      "Live Weather & Daily Local Weather Forecast : 1,000,000+\n",
      "Weather : 10,000,000+\n",
      "Rainfall radar - weather : 5,000,000+\n",
      "Yahoo! Weather for SH Forecast for understanding the approach of rain clouds Free : 1,000,000+\n",
      "The Weather Network : 5,000,000+\n",
      "Klart.se - Sweden's best weather : 1,000,000+\n",
      "GO Weather - Widget, Theme, Wallpaper, Efficient : 50,000,000+\n",
      "Info BMKG : 1,000,000+\n",
      "Weather From DMI/YR : 100,000+\n",
      "wetter.com - Weather and Radar : 10,000,000+\n",
      "Storm Radar: Tornado Tracker & Hurricane Alerts : 1,000,000+\n",
      "Yandex.Weather : 10,000,000+\n",
      "Local Weather Forecast & Visual Widget : 500,000+\n",
      "Wetter by t-online.de : 1,000,000+\n",
      "HTC Weather : 10,000,000+\n",
      "AEMET's time : 1,000,000+\n",
      "New 2018 Weather App & Widget : 500,000+\n",
      "Météociel : 500,000+\n",
      "Climatempo Lite - 15 day weather forecast : 100,000+\n",
      "ForecaWeather : 1,000,000+\n",
      "HumorCast - Authentic Weather : 100,000+\n",
      "W - Weather Forecast & Animated Radar Maps : 5,000+\n",
      "Weather & Clock Widget for Android : 50,000,000+\n",
      "WeatherClear - Ad-free Weather, Minute forecast : 50,000+\n",
      "Ag Weather Tools : 500+\n",
      "Wind & Weather Meter for Ag : 1,000+\n",
      "Au Weather Free : 100,000+\n",
      "Amber Weather : 10,000,000+\n",
      "ByssWeather for Wear OS : 1,000,000+\n",
      "Sun & Moon AR Locator : 10,000+\n",
      "RadarNow! : 5,000,000+\n",
      "Skywatch BL : 1,000+\n",
      "Weather BZ : 100,000+\n",
      "Fu*** Weather (Funny Weather) : 1,000,000+\n",
      "WebCams : 100,000+\n",
      "Windguru Lite : 1,000,000+\n",
      "World Webcams : 1,000,000+\n",
      "DS Barometer - Altimeter and Weather Information : 100,000+\n",
      "DS Thermometer : 100,000+\n",
      "Météo Algérie DZ : 100,000+\n",
      "Local weather Forecast : 1,000,000+\n",
      "Weather 14 Days : 10,000,000+\n",
      "Weather by eltiempo.es : 5,000,000+\n",
      "Storm Shield : 100,000+\n",
      "GO Weather EX Theme White : 500,000+\n",
      "MIUI Style GO Weather EX : 500,000+\n",
      "Moonlight GO Weather EX : 1,000,000+\n",
      "EZ Clock & Weather Widget : 1,000,000+\n",
      "Florida Storms : 10,000+\n",
      "Clearwater, FL - weather and more : 10+\n",
      "St. Petersburg, FL - weather and more : 10+\n",
      "WSVN • South Florida's Source for Weather : 1,000+\n",
      "My Earthquake Alerts - US & Worldwide Earthquakes : 100,000+\n",
      "FR Tides : 100,000+\n"
     ]
    }
   ],
   "source": [
    "for app in android_free:\n",
    "    if app[1] == 'WEATHER':\n",
    "        print(app[0], ':', app[5])"
   ]
  },
  {
   "cell_type": "code",
   "execution_count": 115,
   "metadata": {},
   "outputs": [
    {
     "name": "stdout",
     "output_type": "stream",
     "text": [
      "Fox News – Breaking News, Live Video & News Alerts : 10,000,000+\n",
      "NEW - Read Newspaper, News 24h : 10,000,000+\n",
      "BaBe + - Indonesian News : 1,000,000+\n",
      "daily News : 1,000,000+\n",
      "BBC News : 10,000,000+\n",
      "Free TV Shows App:News, TV Series, Episode, Movies : 1,000,000+\n",
      "News24 : 1,000,000+\n",
      "Le Monde, the continuous news : 5,000,000+\n",
      "Wireless news : 1,000,000+\n",
      "CNN Breaking US & World News : 10,000,000+\n",
      "Gnoche entertainment news · sports news is also free : 5,000,000+\n",
      "BaBe - Read News : 10,000,000+\n",
      "Nigeria News NAIJ.com : 1,000,000+\n",
      "detikcom - Latest & Most Complete News : 10,000,000+\n",
      "Dailyhunt (Newshunt) - Latest News, Viral Videos : 50,000,000+\n",
      "BaBe Lite - Read Quota Saving News : 1,000,000+\n",
      "ARY NEWS URDU : 500,000+\n",
      "Bengali Newspaper - The first L. : 1,000,000+\n",
      "Read- Latest News, Information, Gossip and Politics : 10,000,000+\n",
      "Reddit: Social News, Trending Memes & Funny Videos : 10,000,000+\n",
      "BBC Persian | BBC Farsi News : 100,000+\n",
      "Opera News - Trending news and videos : 10,000,000+\n",
      "Topbuzz: Breaking News, Videos & Funny GIFs : 10,000,000+\n",
      "Twitter : 500,000,000+\n",
      "Pulse Nabd - World News, Urgent : 10,000,000+\n",
      "Asahi Shimbun Digital : 500,000+\n",
      "Breaking News, Local news, Attacks and Alerts Free : 500,000+\n",
      "WE : 1,000,000+\n",
      "Sky News : 1,000,000+\n",
      "Microsoft News : 1,000,000+\n",
      "Onet - news, weather, sport : 1,000,000+\n",
      "Vietnam Today - Read online newspapers, the hottest news 24h : 5,000,000+\n",
      "Apple Daily Apple News : 5,000,000+\n",
      "The Report, Fox, Breitbart - Conservative News : 50,000+\n",
      "Tencent News : 1,000,000+\n",
      "ARY NEWS : 1,000,000+\n",
      "Kurio - Read the Latest News : 1,000,000+\n",
      "Daily Mail Online : 5,000,000+\n",
      "Loop - Caribbean Local News : 1,000,000+\n",
      "AD - News, Sports, Region & Entertainment : 1,000,000+\n",
      "Podcast Addict : 5,000,000+\n",
      "Podcast Republic - Podcast Player & Radio Player : 1,000,000+\n",
      "Spreaker Podcast Radio : 500,000+\n",
      "BeyondPod Podcast Manager : 1,000,000+\n",
      "Dezeen Magazine RSS Reader : 10,000+\n",
      "issuu - Read Magazines, Catalogs, Newspapers. : 1,000,000+\n",
      "BuzzFeed: News, Tasty, Quizzes : 5,000,000+\n",
      "Fast News : 1,000,000+\n",
      "LA Times: Your California News : 100,000+\n",
      "The Washington Post Classic : 1,000,000+\n",
      "Chicago Tribune : 100,000+\n",
      "USA TODAY : 5,000,000+\n",
      "World Newspapers : 1,000,000+\n",
      "The Wall Street Journal: Business & Market News : 1,000,000+\n",
      "Financial Times : 1,000,000+\n",
      "The Guardian : 5,000,000+\n",
      "NYTimes - Latest News : 10,000,000+\n",
      "Digg : 100,000+\n",
      "News360: Personalized News : 1,000,000+\n",
      "RT News (Russia Today) : 1,000,000+\n",
      "NPR News : 1,000,000+\n",
      "Reuters News : 1,000,000+\n",
      "Bloomberg: Market & Financial News : 10,000,000+\n",
      "Haystack TV: Local & World News - Free : 100,000+\n",
      "ABC News - US & World News : 1,000,000+\n",
      "NBC News : 5,000,000+\n",
      "Sync for reddit : 500,000+\n",
      "AP Mobile - Breaking News : 1,000,000+\n",
      "HuffPost - News : 1,000,000+\n",
      "News Republic : 10,000,000+\n",
      "Newsroom: News Worth Sharing : 10,000,000+\n",
      "SmartNews: Breaking News Headlines : 10,000,000+\n",
      "Updates for Samsung - Android Update Versions : 10,000,000+\n",
      "AC - Tips & News for Android™ : 1,000,000+\n",
      "CBS News : 1,000,000+\n",
      "NPR One : 1,000,000+\n",
      "JailBase - Arrests + Mugshots : 1,000,000+\n",
      "Pocket : 10,000,000+\n",
      "AOL - News, Mail & Video : 5,000,000+\n",
      "BaconReader for Reddit : 1,000,000+\n",
      "Flipboard: News For Our Time : 500,000,000+\n",
      "E! News : 1,000,000+\n",
      "M+ : 10,000+\n",
      "AD - Nieuws, Sport, Regio & Entertainment : 1,000,000+\n",
      "AF Link : 10,000+\n",
      "Ariana News AF : 5,000+\n",
      "Rоhi.af : 1,000+\n",
      "AI Today : Artificial Intelligence News & AI 101 : 100+\n",
      "AJ+ Beta : 1,000+\n",
      "Aj. Vallbona : 10+\n",
      "Aj Di Awaaz : 500+\n",
      "AL.com : 50,000+\n",
      "Al Jazeera English : 1,000,000+\n",
      "Al Mayadeen : 500,000+\n",
      "Coast To Coast AM Insider : 100,000+\n",
      "DWWW 774 Ultimate AM Radio : 10,000+\n",
      "AP App for Android™ : 10,000+\n",
      "AS - Diario online deportivo. Fútbol, motor y más : 50+\n",
      "Australia Newspapers - AU News Apps : 1,000+\n",
      "news.com.au : 100+\n",
      "Mali 7 - Actualités au Mali : 50,000+\n",
      "AW TeamUp : 500+\n",
      "AW Reader: news & apps [Dutch] : 100,000+\n",
      "Handbreit by a.w.niemeyer : 1,000+\n",
      "News.aw : 10+\n",
      "AW - Le News di AndroidWorld : 100,000+\n",
      "Cafe.ba : 10,000+\n",
      "058.ba : 100+\n",
      "Klix.ba : 100,000+\n",
      "BD Online News : 1,000+\n",
      "BD Internet Package Activator : 100+\n",
      "BG Sports News : 1,000+\n",
      "Dete.bg : 100+\n",
      "Top Novini BG : 100+\n",
      "Stolica.bg : 50+\n",
      "N+ News Bulgaria : 50+\n",
      "BI News : 1,000+\n",
      "BK Manager : 5,000+\n",
      "RTVBN : 50,000+\n",
      "bq magazine : 50+\n",
      "Vidroid.com.br : 5,000+\n",
      "Revista BS : 100+\n",
      "Kiosko BS : 1,000+\n",
      "BT App : 1,000+\n",
      "B.T. : 100,000+\n",
      "B.Z. Live-Ticker : 10,000+\n",
      "BZ Berner Zeitung E-Paper : 1,000+\n",
      "BZ-Smart : 10,000+\n",
      "Berner Zeitung : 50,000+\n",
      "bz Basellandschaftliche News : 1,000+\n",
      "BZ Langenthaler Tagblatt E-Paper : 10+\n",
      "Badische Zeitung : 10,000+\n",
      "bz Baselland E-Paper : 5,000+\n",
      "BZ-Digital : 100+\n",
      "BZ Berner Oberländer : 1,000+\n",
      "bz Basel E-Paper : 5,000+\n",
      "bz Basel News : 1,000+\n",
      "PRIMATURE.CD : 100+\n",
      "INTERKINOIS.CD : 5+\n",
      "STADE.CD : 5+\n",
      "OBJECTIFINFOS.CD : 50+\n",
      "CE HPJM 69 : 50+\n",
      "CG Creative Sets: 2D/3D Artist : 10,000+\n",
      "CG Daily News : 10,000+\n",
      "CG Freelancer : 1,000+\n",
      "CG Vidhansabha Chunav 2018 : 100+\n",
      "Naidunia: MP News & CG News : 100,000+\n",
      "Bhuiyan Land Records Chhattisgarh (CG) : 5,000+\n",
      "20 minutes (CH) : 1,000,000+\n",
      "CH info : 5,000+\n",
      "20 Minuten (CH) : 1,000,000+\n",
      "swissinfo.ch : 50,000+\n",
      "Startupticker.ch News, Events : 100+\n",
      "CI On The Go : 100+\n",
      "Courier Journal : 10,000+\n",
      "Feeder.co : 5,000+\n",
      "CQ : 1,000+\n",
      "Roll Call News : 5,000+\n",
      "CT Prepares : 1,000+\n",
      "CW TV : 50,000+\n",
      "News 8 San Diego : 50,000+\n",
      "Cy-Ranch : 500+\n",
      "NOMISMA.com.cy by FMW : 100+\n",
      "Capitalnews.com.cy : 10+\n",
      "StudentLife.com.cy : 100+\n",
      "Novinky.cz : 100,000+\n",
      "DB Welt - Die Zeitung der DB : 10,000+\n",
      "FOX 5 DC : 100,000+\n",
      "McClatchy DC Bureau : 5,000+\n",
      "México City D.F News : 100+\n",
      "DG TV : 100+\n",
      "DH News : 10,000+\n",
      "DM Magazine : 10+\n",
      "DN : 10,000+\n",
      "DN eAvis : 10,000+\n",
      "DN Sync : 1,000+\n",
      "DN Reader : 100+\n",
      "e-DN - den digitala tidningen från Dagens Nyheter : 50,000+\n",
      "Dagens Nyheter : 100,000+\n",
      "DN.VR : 5,000+\n",
      "DN - Diário de Notícias : 100,000+\n",
      "DN Radio FM : 10+\n",
      "Sverige Tidningar : 50,000+\n",
      "Svenska Dagbladet : 100,000+\n",
      "Sweden Newspapers : 0+\n",
      "dt.se : 10,000+\n",
      "DW - Breaking World News : 1,000,000+\n",
      "DW Amharic by AudioNow Digital : 10,000+\n",
      "News: DW Español : 1,000+\n",
      "DW : 10,000+\n",
      "DW Arabic By dw-arab.com : 50,000+\n",
      "DW Espanol : 100+\n",
      "News :DW Bangali : 10+\n",
      "News: DW Hausa : 1,000+\n",
      "News: RFI Hausa : 1,000+\n",
      "Hausa Radio : 100,000+\n",
      "Swahili Radio : 10,000+\n",
      "dz NEWS Algerie : 100,000+\n",
      "JNews DZ - Algerian Newspapers : 10,000+\n",
      "dz press : 1,000+\n",
      "Ei Samay - Bengali News Paper : 1,000,000+\n",
      "Aaj Bangla: ei samay er khobor : 1,000+\n",
      "Kolkata News:Anandbazar Patrika,ei samay&AllRating : 100+\n",
      "Ei Somoy & Dainik Sangbad & Statesman (PDF) : 100+\n",
      "EJ.by : 500+\n",
      "EJ Insight : 1,000+\n",
      "El Nuevo Día : 500,000+\n",
      "EL NORTE : 100,000+\n",
      "El Nueve : 50,000+\n",
      "FRANCE 24 : 5,000,000+\n",
      "NewsDog - Latest News, Breaking News, Local News : 10,000,000+\n",
      "Economic Times : Market News : 5,000,000+\n",
      "ET Telecom from Economic Times : 10,000+\n",
      "Economic Times : Market News Go Edition : 5,000+\n",
      "Google News : 1,000,000,000+\n",
      "News by The Times of India Newspaper - Latest News : 10,000,000+\n",
      "Doorstep EU : 1,000+\n",
      "Lazionews.eu : 1,000+\n",
      "EU Life Explorer : 50+\n",
      "EU-Schwerbehinderung : 100+\n",
      "ew-Magazin : 100+\n",
      "News 5 Cleveland : 100,000+\n",
      "The List : 10,000+\n",
      "ABC15 Arizona : 100,000+\n",
      "NATIVE ENTERTAINMENT MAGAZINE - ISSUE # 1 : 10+\n",
      "KMTV 3 News Now : 10,000+\n",
      "TMJ4.com - WTMJ-TV Milwaukee : 50,000+\n",
      "WPTV 5 West Palm Beach : 100,000+\n",
      "WKBW 7 Eyewitness News : 50,000+\n",
      "Barcelona FC Noticias Live : 500+\n",
      "Noticias FC Barcelona : 100+\n",
      "Latest Barcelona News 24h : 10,000+\n",
      "FD e-paper : 10,000+\n",
      "Santa Fe New Mexican e-Edition : 1,000+\n",
      "Results for FL Lottery : 10,000+\n",
      "Florida Lottery Results : 100,000+\n",
      "News-Journal-Daytona Beach, FL : 5,000+\n",
      "Ocala Star Banner, FL : 5,000+\n",
      "Lotto Results - Mega Millions Powerball Lottery US : 1,000,000+\n",
      "WFLA News Channel 8 - Tampa FL : 10,000+\n",
      "The Ledger - Lakeland, Florida : 5,000+\n",
      "Florida Today : 10,000+\n",
      "WSVN - 7 News Miami : 100,000+\n",
      "Podcast App: Free & Offline Podcasts by Player FM : 1,000,000+\n",
      "Fresh News : 100,000+\n",
      "The FP Shield : 10+\n",
      "Miss FQ : 10+\n",
      "News Minecraft.fr : 100,000+\n"
     ]
    }
   ],
   "source": [
    "for app in android_free:\n",
    "    if app[1] == 'NEWS_AND_MAGAZINES':\n",
    "        print(app[0], ':', app[5])"
   ]
  },
  {
   "cell_type": "markdown",
   "metadata": {},
   "source": [
    "# Conclusions\n",
    "\n",
    "#### From the data collected and analized I would reccomend to develop and app  about the weather, books or News and Magazines, but I would also recomend that these apps offer more than just the weather, reading books or news, I would recomend to develop an app that interacts with the user and has as many tools as possible. "
   ]
  },
  {
   "cell_type": "code",
   "execution_count": null,
   "metadata": {},
   "outputs": [],
   "source": []
  }
 ],
 "metadata": {
  "kernelspec": {
   "display_name": "Python 3",
   "language": "python",
   "name": "python3"
  },
  "language_info": {
   "codemirror_mode": {
    "name": "ipython",
    "version": 3
   },
   "file_extension": ".py",
   "mimetype": "text/x-python",
   "name": "python",
   "nbconvert_exporter": "python",
   "pygments_lexer": "ipython3",
   "version": "3.8.2"
  }
 },
 "nbformat": 4,
 "nbformat_minor": 2
}
